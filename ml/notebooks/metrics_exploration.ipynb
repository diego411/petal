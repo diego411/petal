{
 "cells": [
  {
   "cell_type": "code",
   "execution_count": 1,
   "metadata": {},
   "outputs": [],
   "source": [
    "import pandas as pd"
   ]
  },
  {
   "cell_type": "code",
   "execution_count": 2,
   "metadata": {},
   "outputs": [],
   "source": [
    "metrics = pd.read_csv('../experiments_to_test/9ec5795d0bb1c6eeffa679938a067b7e/version_0/test_metrics.csv')"
   ]
  },
  {
   "cell_type": "code",
   "execution_count": 3,
   "metadata": {},
   "outputs": [
    {
     "data": {
      "text/html": [
       "<div>\n",
       "<style scoped>\n",
       "    .dataframe tbody tr th:only-of-type {\n",
       "        vertical-align: middle;\n",
       "    }\n",
       "\n",
       "    .dataframe tbody tr th {\n",
       "        vertical-align: top;\n",
       "    }\n",
       "\n",
       "    .dataframe thead th {\n",
       "        text-align: right;\n",
       "    }\n",
       "</style>\n",
       "<table border=\"1\" class=\"dataframe\">\n",
       "  <thead>\n",
       "    <tr style=\"text-align: right;\">\n",
       "      <th></th>\n",
       "      <th>epoch</th>\n",
       "      <th>step</th>\n",
       "      <th>test_accuracy</th>\n",
       "      <th>test_auroc</th>\n",
       "      <th>test_false_negatives</th>\n",
       "      <th>test_false_positives</th>\n",
       "      <th>test_loss</th>\n",
       "      <th>test_macro_f1</th>\n",
       "      <th>test_precision</th>\n",
       "      <th>test_recall</th>\n",
       "      <th>test_true_negatives</th>\n",
       "      <th>test_true_positives</th>\n",
       "      <th>test_weighted_f1</th>\n",
       "    </tr>\n",
       "  </thead>\n",
       "  <tbody>\n",
       "    <tr>\n",
       "      <th>0</th>\n",
       "      <td>0</td>\n",
       "      <td>0</td>\n",
       "      <td>0.786891</td>\n",
       "      <td>0.81852</td>\n",
       "      <td>258.0</td>\n",
       "      <td>337.0</td>\n",
       "      <td>0.46583</td>\n",
       "      <td>0.645622</td>\n",
       "      <td>0.61661</td>\n",
       "      <td>0.6775</td>\n",
       "      <td>1655.0</td>\n",
       "      <td>542.0</td>\n",
       "      <td>0.645622</td>\n",
       "    </tr>\n",
       "  </tbody>\n",
       "</table>\n",
       "</div>"
      ],
      "text/plain": [
       "   epoch  step  test_accuracy  test_auroc  test_false_negatives  \\\n",
       "0      0     0       0.786891     0.81852                 258.0   \n",
       "\n",
       "   test_false_positives  test_loss  test_macro_f1  test_precision  \\\n",
       "0                 337.0    0.46583       0.645622         0.61661   \n",
       "\n",
       "   test_recall  test_true_negatives  test_true_positives  test_weighted_f1  \n",
       "0       0.6775               1655.0                542.0          0.645622  "
      ]
     },
     "execution_count": 3,
     "metadata": {},
     "output_type": "execute_result"
    }
   ],
   "source": [
    "metrics"
   ]
  },
  {
   "cell_type": "code",
   "execution_count": null,
   "metadata": {},
   "outputs": [],
   "source": []
  }
 ],
 "metadata": {
  "kernelspec": {
   "display_name": "venv",
   "language": "python",
   "name": "python3"
  },
  "language_info": {
   "codemirror_mode": {
    "name": "ipython",
    "version": 3
   },
   "file_extension": ".py",
   "mimetype": "text/x-python",
   "name": "python",
   "nbconvert_exporter": "python",
   "pygments_lexer": "ipython3",
   "version": "3.10.12"
  }
 },
 "nbformat": 4,
 "nbformat_minor": 2
}
