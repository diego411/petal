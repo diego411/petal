{
 "cells": [
  {
   "cell_type": "code",
   "execution_count": 7,
   "metadata": {},
   "outputs": [],
   "source": [
    "from pathlib import Path\n",
    "from pydub import AudioSegment"
   ]
  },
  {
   "cell_type": "code",
   "execution_count": 2,
   "metadata": {},
   "outputs": [],
   "source": [
    "pre_labeled_audios = Path.home() / '.data/petal/pre-labeled/audio'"
   ]
  },
  {
   "cell_type": "code",
   "execution_count": null,
   "metadata": {},
   "outputs": [
    {
     "data": {
      "text/plain": [
       "4798779"
      ]
     },
     "execution_count": 9,
     "metadata": {},
     "output_type": "execute_result"
    }
   ],
   "source": [
    "neutral_audios = pre_labeled_audios / 'neutral'\n",
    "neutral_audio_lengths = 0\n",
    "for neutral_audio in neutral_audios.iterdir():\n",
    "    audio = AudioSegment.from_file(neutral_audio)\n",
    "    neutral_audio_lengths += len(audio)\n",
    "neutral_audio_lengths"
   ]
  },
  {
   "cell_type": "code",
   "execution_count": 13,
   "metadata": {},
   "outputs": [
    {
     "name": "stdout",
     "output_type": "stream",
     "text": [
      "Decoding failed. ffmpeg returned error code: 183\n",
      "\n",
      "Output from ffmpeg/avlib:\n",
      "\n",
      "ffmpeg version 7.0.2-static https://johnvansickle.com/ffmpeg/  Copyright (c) 2000-2024 the FFmpeg developers\n",
      "  built with gcc 8 (Debian 8.3.0-6)\n",
      "  configuration: --enable-gpl --enable-version3 --enable-static --disable-debug --disable-ffplay --disable-indev=sndio --disable-outdev=sndio --cc=gcc --enable-fontconfig --enable-frei0r --enable-gnutls --enable-gmp --enable-libgme --enable-gray --enable-libfribidi --enable-libass --enable-libfreetype --enable-libmp3lame --enable-libopencore-amrnb --enable-libopencore-amrwb --enable-libopenjpeg --enable-librubberband --enable-libsoxr --enable-libspeex --enable-libsrt --enable-libvorbis --enable-libopus --enable-libtheora --enable-libvidstab --enable-libvo-amrwbenc --enable-libvpx --enable-libwebp --enable-libx264 --enable-libx265 --enable-libxml2 --enable-libxvid --enable-libzimg\n",
      "  libavutil      59.  8.100 / 59.  8.100\n",
      "  libavcodec     61.  3.100 / 61.  3.100\n",
      "  libavformat    61.  1.100 / 61.  1.100\n",
      "  libavdevice    61.  1.100 / 61.  1.100\n",
      "  libavfilter    10.  1.100 / 10.  1.100\n",
      "  libswscale      8.  1.100 /  8.  1.100\n",
      "  libswresample   5.  1.100 /  5.  1.100\n",
      "  libpostproc    58.  1.100 / 58.  1.100\n",
      "[in#0 @ 0xded3b00] Error opening input: Invalid data found when processing input\n",
      "Error opening input file /home/dlonghi1_jm/.data/petal/pre-labeled/audio/angry/5f32a1f1ddced03fbda6891b11f797b6.wav.\n",
      "Error opening input files: Invalid data found when processing input\n",
      "\n"
     ]
    },
    {
     "data": {
      "text/plain": [
       "4219487"
      ]
     },
     "execution_count": 13,
     "metadata": {},
     "output_type": "execute_result"
    }
   ],
   "source": [
    "non_neutral_audio_lengths = 0\n",
    "for emotion_dir in pre_labeled_audios.iterdir():\n",
    "    if not emotion_dir.is_dir():\n",
    "        continue\n",
    "    if emotion_dir.stem == 'neutral':\n",
    "        continue\n",
    "    for audio_file in emotion_dir.iterdir():\n",
    "        try:\n",
    "            audio = AudioSegment.from_file(audio_file)\n",
    "        except Exception as e:\n",
    "            print(e)\n",
    "            continue\n",
    "        non_neutral_audio_lengths += len(audio)\n",
    "non_neutral_audio_lengths"
   ]
  }
 ],
 "metadata": {
  "kernelspec": {
   "display_name": "venv",
   "language": "python",
   "name": "python3"
  },
  "language_info": {
   "codemirror_mode": {
    "name": "ipython",
    "version": 3
   },
   "file_extension": ".py",
   "mimetype": "text/x-python",
   "name": "python",
   "nbconvert_exporter": "python",
   "pygments_lexer": "ipython3",
   "version": "3.10.12"
  }
 },
 "nbformat": 4,
 "nbformat_minor": 2
}
