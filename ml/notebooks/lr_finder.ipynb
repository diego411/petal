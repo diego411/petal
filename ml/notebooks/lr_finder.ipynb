{
 "cells": [
  {
   "cell_type": "code",
   "execution_count": 3,
   "metadata": {},
   "outputs": [
    {
     "name": "stderr",
     "output_type": "stream",
     "text": [
      "/home/dlonghi1_jm/Projects/plant_emotion_classification/venv/lib/python3.10/site-packages/tqdm/auto.py:21: TqdmWarning: IProgress not found. Please update jupyter and ipywidgets. See https://ipywidgets.readthedocs.io/en/stable/user_install.html\n",
      "  from .autonotebook import tqdm as notebook_tqdm\n",
      "/home/dlonghi1_jm/Projects/plant_emotion_classification/venv/lib/python3.10/site-packages/pydub/utils.py:170: RuntimeWarning: Couldn't find ffmpeg or avconv - defaulting to ffmpeg, but may not work\n",
      "  warn(\"Couldn't find ffmpeg or avconv - defaulting to ffmpeg, but may not work\", RuntimeWarning)\n"
     ]
    }
   ],
   "source": [
    "import sys\n",
    "import os\n",
    "sys.path.append(os.path.abspath(\"../..\"))\n",
    "\n",
    "from ml.models.VisionCNN import VisionCNN\n",
    "from lightning.pytorch.tuner.tuning import Tuner\n",
    "from lightning.pytorch import Trainer\n",
    "from ml.data.PetalDataModule import PetalDataModule"
   ]
  },
  {
   "cell_type": "code",
   "execution_count": 4,
   "metadata": {},
   "outputs": [],
   "source": [
    "model = VisionCNN(\n",
    "    pretrained_model_name='resnet18',\n",
    "    n_output=6,\n",
    "    freeze=False,\n",
    "    lr=0.001\n",
    ")"
   ]
  },
  {
   "cell_type": "code",
   "execution_count": 5,
   "metadata": {},
   "outputs": [],
   "source": [
    "\n",
    "data_module = PetalDataModule()"
   ]
  },
  {
   "cell_type": "code",
   "execution_count": 15,
   "metadata": {},
   "outputs": [
    {
     "name": "stderr",
     "output_type": "stream",
     "text": [
      "/home/dlonghi1_jm/Projects/plant_emotion_classification/venv/lib/python3.10/site-packages/lightning/fabric/plugins/environments/slurm.py:204: The `srun` command is available on your system but is not used. HINT: If your intention is to run Lightning on SLURM, prepend your python command with `srun` like so: srun python /home/dlonghi1_jm/Projects/plant_emotion_classificat ...\n",
      "GPU available: True (cuda), used: True\n",
      "TPU available: False, using: 0 TPU cores\n",
      "HPU available: False, using: 0 HPUs\n"
     ]
    }
   ],
   "source": [
    "trainer = Trainer(max_epochs=10)\n",
    "tuner = Tuner(trainer)"
   ]
  },
  {
   "cell_type": "code",
   "execution_count": 16,
   "metadata": {},
   "outputs": [
    {
     "name": "stdout",
     "output_type": "stream",
     "text": [
      "Failed to create or save snippet for recording: /home/dlonghi1_jm/.data/petal/post-labeled/unlabeled-audio/10_dreimasterblume_3mast_142hz_1738663599077.wav with following error: division by zero. Start of snippet: 12000. End of snippet: 20000\n",
      "Failed to create or save snippet for recording: /home/dlonghi1_jm/.data/petal/post-labeled/unlabeled-audio/11_tim_basilikum_142hz_1738681653620.wav with following error: division by zero. Start of snippet: 12000. End of snippet: 20000\n",
      "Loading recording: /home/dlonghi1_jm/.data/petal/post-labeled/unlabeled-audio/12_philipp_basilikum_142hz_1738682521686.wav failed with following error: [Errno 2] No such file or directory: 'ffprobe'\n",
      "Failed to create or save snippet for recording: /home/dlonghi1_jm/.data/petal/post-labeled/unlabeled-audio/12_philipp_basilikum_142hz_1738682521686.wav with following error: division by zero. Start of snippet: 12000. End of snippet: 20000\n",
      "Failed to create or save snippet for recording: /home/dlonghi1_jm/.data/petal/post-labeled/unlabeled-audio/13_johannes_basilikum_142hz_1738683390314.wav with following error: division by zero. Start of snippet: 12000. End of snippet: 20000\n",
      "Failed to create or save snippet for recording: /home/dlonghi1_jm/.data/petal/post-labeled/unlabeled-audio/14_lazar_basilikum_142hz_1738684347658.wav with following error: division by zero. Start of snippet: 12000. End of snippet: 20000\n",
      "Failed to create or save snippet for recording: /home/dlonghi1_jm/.data/petal/post-labeled/unlabeled-audio/15_simon_basilikum_142hz_1738685504308.wav with following error: division by zero. Start of snippet: 12000. End of snippet: 20000\n",
      "Failed to create or save snippet for recording: /home/dlonghi1_jm/.data/petal/post-labeled/unlabeled-audio/17_william_basilikum_142hz_1738687849391.wav with following error: division by zero. Start of snippet: 12000. End of snippet: 20000\n",
      "Failed to create or save snippet for recording: /home/dlonghi1_jm/.data/petal/post-labeled/unlabeled-audio/18_jannick_basilikum_142hz_1738688772211.wav with following error: division by zero. Start of snippet: 12000. End of snippet: 20000\n",
      "Loading recording: /home/dlonghi1_jm/.data/petal/post-labeled/unlabeled-audio/29_nils_basilikum1_142hz_1738755925651.wav failed with following error: [Errno 2] No such file or directory: 'ffprobe'\n",
      "Failed to create or save snippet for recording: /home/dlonghi1_jm/.data/petal/post-labeled/unlabeled-audio/29_nils_basilikum1_142hz_1738755925651.wav with following error: division by zero. Start of snippet: 12000. End of snippet: 20000\n",
      "Failed to create or save snippet for recording: /home/dlonghi1_jm/.data/petal/post-labeled/unlabeled-audio/31_manuel_basilikum1_150hz_1738756680156.wav with following error: division by zero. Start of snippet: 12000. End of snippet: 20000\n",
      "Failed to create or save snippet for recording: /home/dlonghi1_jm/.data/petal/post-labeled/unlabeled-audio/32_anna_basilikum1_142hz_1738757415740.wav with following error: division by zero. Start of snippet: 12000. End of snippet: 20000\n",
      "Failed to create or save snippet for recording: /home/dlonghi1_jm/.data/petal/post-labeled/unlabeled-audio/33_flurina_basilikum1_142hz_1738758210160.wav with following error: division by zero. Start of snippet: 12000. End of snippet: 20000\n",
      "Failed to create or save snippet for recording: /home/dlonghi1_jm/.data/petal/post-labeled/unlabeled-audio/40_robin müllers_basilikum_142hz_1739266722675.wav with following error: division by zero. Start of snippet: 12000. End of snippet: 20000\n",
      "Failed to create or save snippet for recording: /home/dlonghi1_jm/.data/petal/post-labeled/unlabeled-audio/41_clemens_basilikum_142hz_1739275074476.wav with following error: division by zero. Start of snippet: 12000. End of snippet: 20000\n",
      "Failed to create or save snippet for recording: /home/dlonghi1_jm/.data/petal/post-labeled/unlabeled-audio/42_desyrèe _basilikum_142hz_1739276010241.wav with following error: division by zero. Start of snippet: 12000. End of snippet: 20000\n",
      "Failed to create or save snippet for recording: /home/dlonghi1_jm/.data/petal/post-labeled/unlabeled-audio/43_aleko_basilikum_142hz_1739276931981.wav with following error: division by zero. Start of snippet: 12000. End of snippet: 20000\n",
      "Failed to create or save snippet for recording: /home/dlonghi1_jm/.data/petal/post-labeled/unlabeled-audio/44_lennart_basilikum_142hz_1739278225511.wav with following error: division by zero. Start of snippet: 12000. End of snippet: 20000\n",
      "Failed to create or save snippet for recording: /home/dlonghi1_jm/.data/petal/post-labeled/unlabeled-audio/45_mario_basilikum_142hz_1739279592070.wav with following error: division by zero. Start of snippet: 12000. End of snippet: 20000\n",
      "Failed to create or save snippet for recording: /home/dlonghi1_jm/.data/petal/post-labeled/unlabeled-audio/46_lukas_basilikum_142hz_1739281382492.wav with following error: division by zero. Start of snippet: 12000. End of snippet: 20000\n",
      "Failed to create or save snippet for recording: /home/dlonghi1_jm/.data/petal/post-labeled/unlabeled-audio/47_johannes_basilikum_142hz_1739282360267.wav with following error: division by zero. Start of snippet: 12000. End of snippet: 20000\n",
      "Failed to create or save snippet for recording: /home/dlonghi1_jm/.data/petal/post-labeled/unlabeled-audio/48_judith_basilikum_142hz_1739283645848.wav with following error: division by zero. Start of snippet: 12000. End of snippet: 20000\n",
      "Failed to create or save snippet for recording: /home/dlonghi1_jm/.data/petal/post-labeled/unlabeled-audio/50_sebastian grosalski_basilikum_142hz_1739284840365.wav with following error: division by zero. Start of snippet: 12000. End of snippet: 20000\n",
      "Failed to create or save snippet for recording: /home/dlonghi1_jm/.data/petal/post-labeled/unlabeled-audio/52_marcel_basilikum_142hz_1739286243360.wav with following error: division by zero. Start of snippet: 12000. End of snippet: 20000\n"
     ]
    },
    {
     "name": "stderr",
     "output_type": "stream",
     "text": [
      "/home/dlonghi1_jm/Projects/plant_emotion_classification/venv/lib/python3.10/site-packages/pydub/utils.py:198: RuntimeWarning: Couldn't find ffprobe or avprobe - defaulting to ffprobe, but may not work\n",
      "  warn(\"Couldn't find ffprobe or avprobe - defaulting to ffprobe, but may not work\", RuntimeWarning)\n",
      "/home/dlonghi1_jm/Projects/plant_emotion_classification/venv/lib/python3.10/site-packages/pydub/utils.py:198: RuntimeWarning: Couldn't find ffprobe or avprobe - defaulting to ffprobe, but may not work\n",
      "  warn(\"Couldn't find ffprobe or avprobe - defaulting to ffprobe, but may not work\", RuntimeWarning)\n",
      "LOCAL_RANK: 0 - CUDA_VISIBLE_DEVICES: [0]\n"
     ]
    },
    {
     "name": "stdout",
     "output_type": "stream",
     "text": [
      "Failed to create or save snippet for recording: /home/dlonghi1_jm/.data/petal/post-labeled/unlabeled-audio/53_lars_basilikum_142hz_1739287676171.wav with following error: division by zero. Start of snippet: 12000. End of snippet: 20000\n",
      "Failed to create or save snippet for recording: /home/dlonghi1_jm/.data/petal/post-labeled/unlabeled-audio/54_tobias_basilikum_142hz_1739439483828.wav with following error: division by zero. Start of snippet: 12000. End of snippet: 20000\n",
      "Failed to create or save snippet for recording: /home/dlonghi1_jm/.data/petal/post-labeled/unlabeled-audio/55_maurice_basilikum_142hz_1739440790938.wav with following error: division by zero. Start of snippet: 12000. End of snippet: 20000\n",
      "Failed to create or save snippet for recording: /home/dlonghi1_jm/.data/petal/post-labeled/unlabeled-audio/56_thomas_basilikum_142hz_1739441883001.wav with following error: division by zero. Start of snippet: 12000. End of snippet: 20000\n",
      "Failed to create or save snippet for recording: /home/dlonghi1_jm/.data/petal/post-labeled/unlabeled-audio/57_benedikt _basilikum_142hz_1739442981170.wav with following error: division by zero. Start of snippet: 12000. End of snippet: 20000\n",
      "Failed to create or save snippet for recording: /home/dlonghi1_jm/.data/petal/post-labeled/unlabeled-audio/58_annika_basilikum_142hz_1739444210126.wav with following error: division by zero. Start of snippet: 12000. End of snippet: 20000\n",
      "Failed to create or save snippet for recording: /home/dlonghi1_jm/.data/petal/post-labeled/unlabeled-audio/59_jascha_basilikum_142hz_1739445172129.wav with following error: division by zero. Start of snippet: 12000. End of snippet: 20000\n",
      "Failed to create or save snippet for recording: /home/dlonghi1_jm/.data/petal/post-labeled/unlabeled-audio/60_jasmin_basilikum_142hz_1739447961565.wav with following error: division by zero. Start of snippet: 12000. End of snippet: 20000\n",
      "Failed to create or save snippet for recording: /home/dlonghi1_jm/.data/petal/post-labeled/unlabeled-audio/61_philipp e._basilikum_142hz_1739454078428.wav with following error: division by zero. Start of snippet: 12000. End of snippet: 20000\n",
      "Failed to create or save snippet for recording: /home/dlonghi1_jm/.data/petal/post-labeled/unlabeled-audio/62_veronika_basilikum_142hz_1739455164075.wav with following error: division by zero. Start of snippet: 12000. End of snippet: 20000\n",
      "Failed to create or save snippet for recording: /home/dlonghi1_jm/.data/petal/post-labeled/unlabeled-audio/63_luisa_basilikum_142hz_1739456674550.wav with following error: division by zero. Start of snippet: 12000. End of snippet: 20000\n",
      "Failed to create or save snippet for recording: /home/dlonghi1_jm/.data/petal/post-labeled/unlabeled-audio/64_anna_basilikum_142hz_1739457792811.wav with following error: division by zero. Start of snippet: 12000. End of snippet: 20000\n",
      "Failed to create or save snippet for recording: /home/dlonghi1_jm/.data/petal/post-labeled/unlabeled-audio/65_leon_basilikum_142hz_1739959061338.wav with following error: division by zero. Start of snippet: 12000. End of snippet: 20000\n",
      "Failed to create or save snippet for recording: /home/dlonghi1_jm/.data/petal/post-labeled/unlabeled-audio/66_pakan_basilikum_142hz_1739960083584.wav with following error: division by zero. Start of snippet: 12000. End of snippet: 20000\n",
      "Failed to create or save snippet for recording: /home/dlonghi1_jm/.data/petal/post-labeled/unlabeled-audio/67_jan happle_basilikum_142hz_1739964188053.wav with following error: division by zero. Start of snippet: 12000. End of snippet: 20000\n",
      "Failed to create or save snippet for recording: /home/dlonghi1_jm/.data/petal/post-labeled/unlabeled-audio/68_paul_basilikum_142hz_1739967307529.wav with following error: division by zero. Start of snippet: 12000. End of snippet: 20000\n",
      "Failed to create or save snippet for recording: /home/dlonghi1_jm/.data/petal/post-labeled/unlabeled-audio/69_lukas_basilikum_142hz_1739970046040.wav with following error: division by zero. Start of snippet: 12000. End of snippet: 20000\n",
      "Failed to create or save snippet for recording: /home/dlonghi1_jm/.data/petal/post-labeled/unlabeled-audio/70_jörn_basilikum_142hz_1739972381617.wav with following error: division by zero. Start of snippet: 12000. End of snippet: 20000\n",
      "Failed to create or save snippet for recording: /home/dlonghi1_jm/.data/petal/post-labeled/unlabeled-audio/72_astrid_basilikum_142hz_1740058244070.wav with following error: division by zero. Start of snippet: 12000. End of snippet: 20000\n",
      "Failed to create or save snippet for recording: /home/dlonghi1_jm/.data/petal/post-labeled/unlabeled-audio/73_sumeet_basilikum_142hz_1740059083023.wav with following error: division by zero. Start of snippet: 12000. End of snippet: 20000\n",
      "Failed to create or save snippet for recording: /home/dlonghi1_jm/.data/petal/post-labeled/unlabeled-audio/74_gerda_basilikum_142hz_1740060400669.wav with following error: division by zero. Start of snippet: 12000. End of snippet: 20000\n",
      "Failed to create or save snippet for recording: /home/dlonghi1_jm/.data/petal/post-labeled/unlabeled-audio/75_ulrike_basilikum_142hz_1740061546999.wav with following error: division by zero. Start of snippet: 12000. End of snippet: 20000\n",
      "Failed to create or save snippet for recording: /home/dlonghi1_jm/.data/petal/post-labeled/unlabeled-audio/76_andrea_basilikum_142hz_1740062435416.wav with following error: division by zero. Start of snippet: 12000. End of snippet: 20000\n",
      "Failed to create or save snippet for recording: /home/dlonghi1_jm/.data/petal/post-labeled/unlabeled-audio/77_patrizia_basilikum_142hz_1740063862287.wav with following error: division by zero. Start of snippet: 12000. End of snippet: 20000\n",
      "Failed to create or save snippet for recording: /home/dlonghi1_jm/.data/petal/post-labeled/unlabeled-audio/78_ulrike_basilikum_142hz_1740064687739.wav with following error: division by zero. Start of snippet: 12000. End of snippet: 20000\n",
      "Starting to generate spectrograms for emotion: angry\n",
      "Skipping generation of spectrograms for emotion: angry since the directory is not empty!\n",
      "Skipping generation of mel spectrograms for emotion: angry since the directory is not empty!\n",
      "Starting to generate spectrograms for emotion: disgusted\n",
      "Skipping generation of spectrograms for emotion: disgusted since the directory is not empty!\n",
      "Skipping generation of mel spectrograms for emotion: disgusted since the directory is not empty!\n",
      "Starting to generate spectrograms for emotion: fearful\n",
      "Skipping generation of spectrograms for emotion: fearful since the directory is not empty!\n",
      "Skipping generation of mel spectrograms for emotion: fearful since the directory is not empty!\n",
      "Starting to generate spectrograms for emotion: happy\n",
      "Skipping generation of spectrograms for emotion: happy since the directory is not empty!\n",
      "Skipping generation of mel spectrograms for emotion: happy since the directory is not empty!\n",
      "Starting to generate spectrograms for emotion: sad\n",
      "Skipping generation of spectrograms for emotion: sad since the directory is not empty!\n",
      "Skipping generation of mel spectrograms for emotion: sad since the directory is not empty!\n",
      "Starting to generate spectrograms for emotion: surprised\n",
      "Skipping generation of spectrograms for emotion: surprised since the directory is not empty!\n",
      "Skipping generation of mel spectrograms for emotion: surprised since the directory is not empty!\n",
      "Number of samples per class in whole dataset: {'angry': 431, 'disgusted': 144, 'fearful': 799, 'happy': 144, 'sad': 614, 'surprised': 191}\n"
     ]
    },
    {
     "name": "stderr",
     "output_type": "stream",
     "text": [
      "/home/dlonghi1_jm/Projects/plant_emotion_classification/venv/lib/python3.10/site-packages/lightning/pytorch/trainer/connectors/data_connector.py:425: The 'train_dataloader' does not have many workers which may be a bottleneck. Consider increasing the value of the `num_workers` argument` to `num_workers=31` in the `DataLoader` to improve performance.\n",
      "/home/dlonghi1_jm/Projects/plant_emotion_classification/venv/lib/python3.10/site-packages/lightning/pytorch/trainer/connectors/data_connector.py:425: The 'val_dataloader' does not have many workers which may be a bottleneck. Consider increasing the value of the `num_workers` argument` to `num_workers=31` in the `DataLoader` to improve performance.\n",
      "Finding best initial lr: 100%|██████████| 100/100 [00:51<00:00,  1.93it/s]`Trainer.fit` stopped: `max_steps=100` reached.\n",
      "Finding best initial lr: 100%|██████████| 100/100 [00:51<00:00,  1.94it/s]\n",
      "Learning rate set to 0.0022908676527677745\n",
      "Restoring states from the checkpoint path at /home/dlonghi1_jm/Projects/plant_emotion_classification/ml/notebooks/.lr_find_4349aa83-2244-4a2d-84ba-237de2330cf3.ckpt\n",
      "Restored all states from the checkpoint at /home/dlonghi1_jm/Projects/plant_emotion_classification/ml/notebooks/.lr_find_4349aa83-2244-4a2d-84ba-237de2330cf3.ckpt\n"
     ]
    }
   ],
   "source": [
    "\n",
    "lr_finder = tuner.lr_find(model, datamodule=data_module)"
   ]
  },
  {
   "cell_type": "code",
   "execution_count": 17,
   "metadata": {},
   "outputs": [
    {
     "data": {
      "text/plain": [
       "0.0022908676527677745"
      ]
     },
     "execution_count": 17,
     "metadata": {},
     "output_type": "execute_result"
    },
    {
     "data": {
      "image/png": "[encoded data removed]",
      "text/plain": [
       "<Figure size 640x480 with 1 Axes>"
      ]
     },
     "metadata": {},
     "output_type": "display_data"
    }
   ],
   "source": [
    "assert lr_finder is not None\n",
    "fig = lr_finder.plot(suggest=True)\n",
    "lr_finder.suggestion()"
   ]
  }
 ],
 "metadata": {
  "kernelspec": {
   "display_name": "venv",
   "language": "python",
   "name": "python3"
  },
  "language_info": {
   "codemirror_mode": {
    "name": "ipython",
    "version": 3
   },
   "file_extension": ".py",
   "mimetype": "text/x-python",
   "name": "python",
   "nbconvert_exporter": "python",
   "pygments_lexer": "ipython3",
   "version": "3.10.12"
  }
 },
 "nbformat": 4,
 "nbformat_minor": 2
}
