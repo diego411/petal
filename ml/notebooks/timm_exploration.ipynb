{
 "cells": [
  {
   "cell_type": "code",
   "execution_count": 1,
   "metadata": {},
   "outputs": [],
   "source": [
    "import pandas as pd"
   ]
  },
  {
   "cell_type": "code",
   "execution_count": 2,
   "metadata": {},
   "outputs": [],
   "source": [
    "df = pd.read_csv('timm-models.csv')"
   ]
  },
  {
   "cell_type": "code",
   "execution_count": 3,
   "metadata": {},
   "outputs": [
    {
     "data": {
      "text/html": [
       "<div>\n",
       "<style scoped>\n",
       "    .dataframe tbody tr th:only-of-type {\n",
       "        vertical-align: middle;\n",
       "    }\n",
       "\n",
       "    .dataframe tbody tr th {\n",
       "        vertical-align: top;\n",
       "    }\n",
       "\n",
       "    .dataframe thead th {\n",
       "        text-align: right;\n",
       "    }\n",
       "</style>\n",
       "<table border=\"1\" class=\"dataframe\">\n",
       "  <thead>\n",
       "    <tr style=\"text-align: right;\">\n",
       "      <th></th>\n",
       "      <th>model</th>\n",
       "      <th>infer_samples_per_sec</th>\n",
       "      <th>infer_step_time</th>\n",
       "      <th>infer_batch_size</th>\n",
       "      <th>infer_img_size</th>\n",
       "      <th>param_count</th>\n",
       "    </tr>\n",
       "  </thead>\n",
       "  <tbody>\n",
       "    <tr>\n",
       "      <th>0</th>\n",
       "      <td>tinynet_e</td>\n",
       "      <td>47972.76</td>\n",
       "      <td>21.335</td>\n",
       "      <td>1024</td>\n",
       "      <td>106</td>\n",
       "      <td>2.04</td>\n",
       "    </tr>\n",
       "    <tr>\n",
       "      <th>1</th>\n",
       "      <td>mobilenetv3_small_050</td>\n",
       "      <td>42473.43</td>\n",
       "      <td>24.099</td>\n",
       "      <td>1024</td>\n",
       "      <td>224</td>\n",
       "      <td>1.59</td>\n",
       "    </tr>\n",
       "    <tr>\n",
       "      <th>2</th>\n",
       "      <td>lcnet_035</td>\n",
       "      <td>39739.31</td>\n",
       "      <td>25.756</td>\n",
       "      <td>1024</td>\n",
       "      <td>224</td>\n",
       "      <td>1.64</td>\n",
       "    </tr>\n",
       "    <tr>\n",
       "      <th>3</th>\n",
       "      <td>lcnet_050</td>\n",
       "      <td>35211.00</td>\n",
       "      <td>29.071</td>\n",
       "      <td>1024</td>\n",
       "      <td>224</td>\n",
       "      <td>1.88</td>\n",
       "    </tr>\n",
       "    <tr>\n",
       "      <th>4</th>\n",
       "      <td>mobilenetv3_small_075</td>\n",
       "      <td>31410.30</td>\n",
       "      <td>32.589</td>\n",
       "      <td>1024</td>\n",
       "      <td>224</td>\n",
       "      <td>2.04</td>\n",
       "    </tr>\n",
       "  </tbody>\n",
       "</table>\n",
       "</div>"
      ],
      "text/plain": [
       "                   model  infer_samples_per_sec  infer_step_time  \\\n",
       "0              tinynet_e               47972.76           21.335   \n",
       "1  mobilenetv3_small_050               42473.43           24.099   \n",
       "2              lcnet_035               39739.31           25.756   \n",
       "3              lcnet_050               35211.00           29.071   \n",
       "4  mobilenetv3_small_075               31410.30           32.589   \n",
       "\n",
       "   infer_batch_size  infer_img_size  param_count  \n",
       "0              1024             106         2.04  \n",
       "1              1024             224         1.59  \n",
       "2              1024             224         1.64  \n",
       "3              1024             224         1.88  \n",
       "4              1024             224         2.04  "
      ]
     },
     "execution_count": 3,
     "metadata": {},
     "output_type": "execute_result"
    }
   ],
   "source": [
    "df.head()"
   ]
  },
  {
   "cell_type": "code",
   "execution_count": 5,
   "metadata": {},
   "outputs": [],
   "source": [
    "smaller_models = df[df['param_count'] < 20]['model'].tolist()"
   ]
  },
  {
   "cell_type": "code",
   "execution_count": 6,
   "metadata": {},
   "outputs": [
    {
     "name": "stdout",
     "output_type": "stream",
     "text": [
      "274\n"
     ]
    }
   ],
   "source": [
    "print(len(smaller_models))"
   ]
  }
 ],
 "metadata": {
  "kernelspec": {
   "display_name": "venv",
   "language": "python",
   "name": "python3"
  },
  "language_info": {
   "codemirror_mode": {
    "name": "ipython",
    "version": 3
   },
   "file_extension": ".py",
   "mimetype": "text/x-python",
   "name": "python",
   "nbconvert_exporter": "python",
   "pygments_lexer": "ipython3",
   "version": "3.10.12"
  }
 },
 "nbformat": 4,
 "nbformat_minor": 2
}
